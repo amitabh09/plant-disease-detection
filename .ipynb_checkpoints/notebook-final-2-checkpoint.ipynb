{
 "cells": [
  {
   "cell_type": "markdown",
   "metadata": {},
   "source": [
    "# "
   ]
  },
  {
   "cell_type": "code",
   "execution_count": 12,
   "metadata": {
    "_cell_guid": "b1076dfc-b9ad-4769-8c92-a6c4dae69d19",
    "_uuid": "8f2839f25d086af736a60e9eeb907d3b93b6e0e5",
    "execution": {
     "iopub.execute_input": "2023-05-14T20:04:01.315869Z",
     "iopub.status.busy": "2023-05-14T20:04:01.315466Z",
     "iopub.status.idle": "2023-05-14T20:04:01.323742Z",
     "shell.execute_reply": "2023-05-14T20:04:01.322598Z",
     "shell.execute_reply.started": "2023-05-14T20:04:01.315836Z"
    }
   },
   "outputs": [],
   "source": [
    "import numpy as np\n",
    "import pickle\n",
    "import cv2\n",
    "from os import listdir\n",
    "from sklearn.preprocessing import LabelBinarizer\n",
    "from keras.models import Sequential\n",
    "from tensorflow.keras.layers import BatchNormalization\n",
    "from keras.layers.convolutional import Conv2D\n",
    "from keras.layers.convolutional import MaxPooling2D\n",
    "from keras.layers.core import Activation, Flatten, Dropout, Dense\n",
    "from keras import backend as K\n",
    "from keras.preprocessing.image import ImageDataGenerator\n",
    "from keras.optimizers import Adam\n",
    "from keras.preprocessing import image\n",
    "from tensorflow.keras.utils import img_to_array\n",
    "from sklearn.preprocessing import MultiLabelBinarizer\n",
    "from sklearn.model_selection import train_test_split\n",
    "import matplotlib.pyplot as plt"
   ]
  },
  {
   "cell_type": "code",
   "execution_count": 13,
   "metadata": {
    "execution": {
     "iopub.execute_input": "2023-05-14T20:04:01.326395Z",
     "iopub.status.busy": "2023-05-14T20:04:01.325811Z",
     "iopub.status.idle": "2023-05-14T20:04:01.345123Z",
     "shell.execute_reply": "2023-05-14T20:04:01.344135Z",
     "shell.execute_reply.started": "2023-05-14T20:04:01.326362Z"
    }
   },
   "outputs": [],
   "source": [
    "EPOCHS = 30\n",
    "INIT_LR = 1e-3\n",
    "BS = 32\n",
    "default_image_size = tuple((256, 256))\n",
    "image_size = 0\n",
    "directory_root = '/kaggle/input/plantdisease'\n",
    "width=256\n",
    "height=256\n",
    "depth=3"
   ]
  },
  {
   "cell_type": "code",
   "execution_count": 14,
   "metadata": {
    "execution": {
     "iopub.execute_input": "2023-05-14T20:04:01.347401Z",
     "iopub.status.busy": "2023-05-14T20:04:01.346956Z",
     "iopub.status.idle": "2023-05-14T20:04:01.354619Z",
     "shell.execute_reply": "2023-05-14T20:04:01.353590Z",
     "shell.execute_reply.started": "2023-05-14T20:04:01.347369Z"
    }
   },
   "outputs": [],
   "source": [
    "def convert_image_to_array(image_dir):\n",
    "    try:\n",
    "        image = cv2.imread(image_dir)\n",
    "        if image is not None :\n",
    "            image = cv2.resize(image, default_image_size)   \n",
    "            return img_to_array(image)\n",
    "        else :\n",
    "            return np.array([])\n",
    "    except Exception as e:\n",
    "        print(f\"Error : {e}\")\n",
    "        return None"
   ]
  },
  {
   "cell_type": "code",
   "execution_count": 15,
   "metadata": {
    "execution": {
     "iopub.execute_input": "2023-05-14T20:04:01.476529Z",
     "iopub.status.busy": "2023-05-14T20:04:01.476060Z",
     "iopub.status.idle": "2023-05-14T20:04:07.561414Z",
     "shell.execute_reply": "2023-05-14T20:04:07.560361Z",
     "shell.execute_reply.started": "2023-05-14T20:04:01.476478Z"
    }
   },
   "outputs": [
    {
     "name": "stdout",
     "output_type": "stream",
     "text": [
      "[INFO] Loading images ...\n",
      "[INFO] Processing Pepper__bell___Bacterial_spot ...\n",
      "[INFO] Processing Potato___healthy ...\n",
      "[INFO] Processing Tomato_Leaf_Mold ...\n",
      "[INFO] Processing Tomato__Tomato_YellowLeaf__Curl_Virus ...\n",
      "[INFO] Processing Tomato_Bacterial_spot ...\n",
      "[INFO] Processing Tomato_Septoria_leaf_spot ...\n",
      "[INFO] Processing Tomato_healthy ...\n",
      "[INFO] Processing Tomato_Spider_mites_Two_spotted_spider_mite ...\n",
      "[INFO] Processing Tomato_Early_blight ...\n",
      "[INFO] Processing Tomato__Target_Spot ...\n",
      "[INFO] Processing Pepper__bell___healthy ...\n",
      "[INFO] Processing Potato___Late_blight ...\n",
      "[INFO] Processing Tomato_Late_blight ...\n",
      "[INFO] Processing Potato___Early_blight ...\n",
      "[INFO] Processing Tomato__Tomato_mosaic_virus ...\n",
      "[INFO] Processing PlantVillage ...\n",
      "[INFO] Image loading completed\n"
     ]
    }
   ],
   "source": [
    "image_list, label_list = [], []\n",
    "try:\n",
    "    print(\"[INFO] Loading images ...\")\n",
    "    root_dir = listdir(directory_root)\n",
    "    for directory in root_dir :\n",
    "        # remove .DS_Store from list\n",
    "        if directory == \".DS_Store\" :\n",
    "            root_dir.remove(directory)\n",
    "\n",
    "    for plant_folder in root_dir :\n",
    "        plant_disease_folder_list = listdir(f\"{directory_root}/{plant_folder}\")\n",
    "        \n",
    "        for disease_folder in plant_disease_folder_list :\n",
    "            # remove .DS_Store from list\n",
    "            if disease_folder == \".DS_Store\" :\n",
    "                plant_disease_folder_list.remove(disease_folder)\n",
    "\n",
    "        for plant_disease_folder in plant_disease_folder_list:\n",
    "            print(f\"[INFO] Processing {plant_disease_folder} ...\")\n",
    "            plant_disease_image_list = listdir(f\"{directory_root}/{plant_folder}/{plant_disease_folder}/\")\n",
    "                \n",
    "            for single_plant_disease_image in plant_disease_image_list :\n",
    "                if single_plant_disease_image == \".DS_Store\" :\n",
    "                    plant_disease_image_list.remove(single_plant_disease_image)\n",
    "\n",
    "            for image in plant_disease_image_list[:200]:\n",
    "                image_directory = f\"{directory_root}/{plant_folder}/{plant_disease_folder}/{image}\"\n",
    "                if image_directory.endswith(\".jpg\") == True or image_directory.endswith(\".JPG\") == True:\n",
    "                    image_list.append(convert_image_to_array(image_directory))\n",
    "                    label_list.append(plant_disease_folder)\n",
    "    print(\"[INFO] Image loading completed\")  \n",
    "except Exception as e:\n",
    "    print(f\"Error : {e}\")"
   ]
  },
  {
   "cell_type": "code",
   "execution_count": null,
   "metadata": {},
   "outputs": [],
   "source": []
  },
  {
   "cell_type": "code",
   "execution_count": 16,
   "metadata": {
    "execution": {
     "iopub.execute_input": "2023-05-14T20:04:07.564286Z",
     "iopub.status.busy": "2023-05-14T20:04:07.563290Z",
     "iopub.status.idle": "2023-05-14T20:04:07.588349Z",
     "shell.execute_reply": "2023-05-14T20:04:07.587367Z",
     "shell.execute_reply.started": "2023-05-14T20:04:07.564248Z"
    }
   },
   "outputs": [
    {
     "name": "stdout",
     "output_type": "stream",
     "text": [
      "['Pepper__bell___Bacterial_spot' 'Pepper__bell___healthy'\n",
      " 'Potato___Early_blight' 'Potato___Late_blight' 'Potato___healthy'\n",
      " 'Tomato_Bacterial_spot' 'Tomato_Early_blight' 'Tomato_Late_blight'\n",
      " 'Tomato_Leaf_Mold' 'Tomato_Septoria_leaf_spot'\n",
      " 'Tomato_Spider_mites_Two_spotted_spider_mite' 'Tomato__Target_Spot'\n",
      " 'Tomato__Tomato_YellowLeaf__Curl_Virus' 'Tomato__Tomato_mosaic_virus'\n",
      " 'Tomato_healthy']\n"
     ]
    }
   ],
   "source": [
    "image_size = len(image_list)\n",
    "#Transform Image Labels uisng Scikit LabelBinarizer\n",
    "\n",
    "label_binarizer = LabelBinarizer()\n",
    "image_labels = label_binarizer.fit_transform(label_list)\n",
    "pickle.dump(label_binarizer,open('label_transform.pkl', 'wb'))\n",
    "n_classes = len(label_binarizer.classes_)\n",
    "#Print the classes\n",
    "\n",
    "print(label_binarizer.classes_)\n"
   ]
  },
  {
   "cell_type": "code",
   "execution_count": 17,
   "metadata": {
    "execution": {
     "iopub.execute_input": "2023-05-14T20:04:07.590761Z",
     "iopub.status.busy": "2023-05-14T20:04:07.589801Z",
     "iopub.status.idle": "2023-05-14T20:04:19.046043Z",
     "shell.execute_reply": "2023-05-14T20:04:19.045019Z",
     "shell.execute_reply.started": "2023-05-14T20:04:07.590728Z"
    }
   },
   "outputs": [
    {
     "name": "stdout",
     "output_type": "stream",
     "text": [
      "[INFO] Spliting data to train, test\n"
     ]
    }
   ],
   "source": [
    "np_image_list = np.array(image_list, dtype=np.float16) / 225.0\n",
    "print(\"[INFO] Spliting data to train, test\")\n",
    "x_train, x_test, y_train, y_test = train_test_split(np_image_list, image_labels, test_size=0.2, random_state = 42) "
   ]
  },
  {
   "cell_type": "code",
   "execution_count": 18,
   "metadata": {
    "execution": {
     "iopub.execute_input": "2023-05-14T20:04:19.048943Z",
     "iopub.status.busy": "2023-05-14T20:04:19.048567Z",
     "iopub.status.idle": "2023-05-14T20:04:19.054611Z",
     "shell.execute_reply": "2023-05-14T20:04:19.053606Z",
     "shell.execute_reply.started": "2023-05-14T20:04:19.048901Z"
    }
   },
   "outputs": [],
   "source": [
    "aug = ImageDataGenerator(\n",
    "    rotation_range=25, width_shift_range=0.1,\n",
    "    height_shift_range=0.1, shear_range=0.2, \n",
    "    zoom_range=0.2,horizontal_flip=True, \n",
    "    fill_mode=\"nearest\")"
   ]
  },
  {
   "cell_type": "code",
   "execution_count": 19,
   "metadata": {
    "execution": {
     "iopub.execute_input": "2023-05-14T20:04:19.056881Z",
     "iopub.status.busy": "2023-05-14T20:04:19.055941Z",
     "iopub.status.idle": "2023-05-14T20:04:19.291974Z",
     "shell.execute_reply": "2023-05-14T20:04:19.290714Z",
     "shell.execute_reply.started": "2023-05-14T20:04:19.056845Z"
    }
   },
   "outputs": [],
   "source": [
    "model = Sequential()\n",
    "inputShape = (height, width, depth)\n",
    "chanDim = -1\n",
    "if K.image_data_format() == \"channels_first\":\n",
    "    inputShape = (depth, height, width)\n",
    "    chanDim = 1\n",
    "model.add(Conv2D(32, (3, 3), padding=\"same\",input_shape=inputShape))\n",
    "model.add(Activation(\"relu\"))\n",
    "model.add(BatchNormalization(axis=chanDim))\n",
    "model.add(MaxPooling2D(pool_size=(3, 3)))\n",
    "model.add(Dropout(0.25))\n",
    "model.add(Conv2D(64, (3, 3), padding=\"same\"))\n",
    "model.add(Activation(\"relu\"))\n",
    "model.add(BatchNormalization(axis=chanDim))\n",
    "model.add(Conv2D(64, (3, 3), padding=\"same\"))\n",
    "model.add(Activation(\"relu\"))\n",
    "model.add(BatchNormalization(axis=chanDim))\n",
    "model.add(MaxPooling2D(pool_size=(2, 2)))\n",
    "model.add(Dropout(0.25))\n",
    "model.add(Conv2D(128, (3, 3), padding=\"same\"))\n",
    "model.add(Activation(\"relu\"))\n",
    "model.add(BatchNormalization(axis=chanDim))\n",
    "model.add(Conv2D(128, (3, 3), padding=\"same\"))\n",
    "model.add(Activation(\"relu\"))\n",
    "model.add(BatchNormalization(axis=chanDim))\n",
    "model.add(MaxPooling2D(pool_size=(2, 2)))\n",
    "model.add(Dropout(0.25))\n",
    "model.add(Flatten())\n",
    "model.add(Dense(1024))\n",
    "model.add(Activation(\"relu\"))\n",
    "model.add(BatchNormalization())\n",
    "model.add(Dropout(0.5))\n",
    "model.add(Dense(n_classes))\n",
    "model.add(Activation(\"softmax\"))"
   ]
  },
  {
   "cell_type": "code",
   "execution_count": 20,
   "metadata": {
    "execution": {
     "iopub.execute_input": "2023-05-14T20:04:19.293837Z",
     "iopub.status.busy": "2023-05-14T20:04:19.293270Z",
     "iopub.status.idle": "2023-05-14T20:04:19.413179Z",
     "shell.execute_reply": "2023-05-14T20:04:19.412214Z",
     "shell.execute_reply.started": "2023-05-14T20:04:19.293803Z"
    }
   },
   "outputs": [
    {
     "name": "stdout",
     "output_type": "stream",
     "text": [
      "Model: \"sequential_1\"\n",
      "_________________________________________________________________\n",
      " Layer (type)                Output Shape              Param #   \n",
      "=================================================================\n",
      " conv2d_5 (Conv2D)           (None, 256, 256, 32)      896       \n",
      "                                                                 \n",
      " activation_7 (Activation)   (None, 256, 256, 32)      0         \n",
      "                                                                 \n",
      " batch_normalization_6 (Batc  (None, 256, 256, 32)     128       \n",
      " hNormalization)                                                 \n",
      "                                                                 \n",
      " max_pooling2d_3 (MaxPooling  (None, 85, 85, 32)       0         \n",
      " 2D)                                                             \n",
      "                                                                 \n",
      " dropout_4 (Dropout)         (None, 85, 85, 32)        0         \n",
      "                                                                 \n",
      " conv2d_6 (Conv2D)           (None, 85, 85, 64)        18496     \n",
      "                                                                 \n",
      " activation_8 (Activation)   (None, 85, 85, 64)        0         \n",
      "                                                                 \n",
      " batch_normalization_7 (Batc  (None, 85, 85, 64)       256       \n",
      " hNormalization)                                                 \n",
      "                                                                 \n",
      " conv2d_7 (Conv2D)           (None, 85, 85, 64)        36928     \n",
      "                                                                 \n",
      " activation_9 (Activation)   (None, 85, 85, 64)        0         \n",
      "                                                                 \n",
      " batch_normalization_8 (Batc  (None, 85, 85, 64)       256       \n",
      " hNormalization)                                                 \n",
      "                                                                 \n",
      " max_pooling2d_4 (MaxPooling  (None, 42, 42, 64)       0         \n",
      " 2D)                                                             \n",
      "                                                                 \n",
      " dropout_5 (Dropout)         (None, 42, 42, 64)        0         \n",
      "                                                                 \n",
      " conv2d_8 (Conv2D)           (None, 42, 42, 128)       73856     \n",
      "                                                                 \n",
      " activation_10 (Activation)  (None, 42, 42, 128)       0         \n",
      "                                                                 \n",
      " batch_normalization_9 (Batc  (None, 42, 42, 128)      512       \n",
      " hNormalization)                                                 \n",
      "                                                                 \n",
      " conv2d_9 (Conv2D)           (None, 42, 42, 128)       147584    \n",
      "                                                                 \n",
      " activation_11 (Activation)  (None, 42, 42, 128)       0         \n",
      "                                                                 \n",
      " batch_normalization_10 (Bat  (None, 42, 42, 128)      512       \n",
      " chNormalization)                                                \n",
      "                                                                 \n",
      " max_pooling2d_5 (MaxPooling  (None, 21, 21, 128)      0         \n",
      " 2D)                                                             \n",
      "                                                                 \n",
      " dropout_6 (Dropout)         (None, 21, 21, 128)       0         \n",
      "                                                                 \n",
      " flatten_1 (Flatten)         (None, 56448)             0         \n",
      "                                                                 \n",
      " dense_2 (Dense)             (None, 1024)              57803776  \n",
      "                                                                 \n",
      " activation_12 (Activation)  (None, 1024)              0         \n",
      "                                                                 \n",
      " batch_normalization_11 (Bat  (None, 1024)             4096      \n",
      " chNormalization)                                                \n",
      "                                                                 \n",
      " dropout_7 (Dropout)         (None, 1024)              0         \n",
      "                                                                 \n",
      " dense_3 (Dense)             (None, 15)                15375     \n",
      "                                                                 \n",
      " activation_13 (Activation)  (None, 15)                0         \n",
      "                                                                 \n",
      "=================================================================\n",
      "Total params: 58,102,671\n",
      "Trainable params: 58,099,791\n",
      "Non-trainable params: 2,880\n",
      "_________________________________________________________________\n"
     ]
    }
   ],
   "source": [
    "model.summary()"
   ]
  },
  {
   "cell_type": "code",
   "execution_count": 21,
   "metadata": {
    "execution": {
     "iopub.execute_input": "2023-05-14T20:04:19.415639Z",
     "iopub.status.busy": "2023-05-14T20:04:19.415235Z",
     "iopub.status.idle": "2023-05-14T20:04:19.454721Z",
     "shell.execute_reply": "2023-05-14T20:04:19.453872Z",
     "shell.execute_reply.started": "2023-05-14T20:04:19.415603Z"
    }
   },
   "outputs": [
    {
     "name": "stdout",
     "output_type": "stream",
     "text": [
      "[INFO] training network...\n"
     ]
    },
    {
     "name": "stderr",
     "output_type": "stream",
     "text": [
      "/opt/conda/lib/python3.10/site-packages/keras/optimizers/optimizer_v2/adam.py:117: UserWarning: The `lr` argument is deprecated, use `learning_rate` instead.\n",
      "  super().__init__(name, **kwargs)\n"
     ]
    }
   ],
   "source": [
    "opt = Adam(lr=INIT_LR, decay=INIT_LR / EPOCHS)\n",
    "# distribution\n",
    "model.compile(loss=\"binary_crossentropy\", optimizer=opt,metrics=[\"accuracy\"])\n",
    "# train the network\n",
    "print(\"[INFO] training network...\")"
   ]
  },
  {
   "cell_type": "code",
   "execution_count": 22,
   "metadata": {
    "execution": {
     "iopub.execute_input": "2023-05-14T20:04:19.456156Z",
     "iopub.status.busy": "2023-05-14T20:04:19.455816Z",
     "iopub.status.idle": "2023-05-14T20:23:10.191412Z",
     "shell.execute_reply": "2023-05-14T20:23:10.190398Z",
     "shell.execute_reply.started": "2023-05-14T20:04:19.456123Z"
    }
   },
   "outputs": [
    {
     "name": "stdout",
     "output_type": "stream",
     "text": [
      "Epoch 1/30\n"
     ]
    },
    {
     "name": "stderr",
     "output_type": "stream",
     "text": [
      "2023-05-14 20:04:23.761272: E tensorflow/core/grappler/optimizers/meta_optimizer.cc:954] layout failed: INVALID_ARGUMENT: Size of values 0 does not match size of permutation 4 @ fanin shape insequential_1/dropout_4/dropout/SelectV2-2-TransposeNHWCToNCHW-LayoutOptimizer\n"
     ]
    },
    {
     "name": "stdout",
     "output_type": "stream",
     "text": [
      "73/73 [==============================] - 33s 448ms/step - loss: 0.2141 - accuracy: 0.4208 - val_loss: 2.4069 - val_accuracy: 0.0846\n",
      "Epoch 3/30\n",
      "73/73 [==============================] - 33s 447ms/step - loss: 0.1867 - accuracy: 0.4873 - val_loss: 0.4239 - val_accuracy: 0.1100\n",
      "Epoch 4/30\n",
      "73/73 [==============================] - 33s 454ms/step - loss: 0.1510 - accuracy: 0.5930 - val_loss: 0.5311 - val_accuracy: 0.0998\n",
      "Epoch 5/30\n",
      "73/73 [==============================] - 33s 449ms/step - loss: 0.1399 - accuracy: 0.6191 - val_loss: 0.6760 - val_accuracy: 0.1794\n",
      "Epoch 6/30\n",
      "73/73 [==============================] - 33s 456ms/step - loss: 0.1386 - accuracy: 0.6385 - val_loss: 2.1806 - val_accuracy: 0.0728\n",
      "Epoch 7/30\n",
      "73/73 [==============================] - 33s 446ms/step - loss: 0.1097 - accuracy: 0.7347 - val_loss: 0.3804 - val_accuracy: 0.2335\n",
      "Epoch 8/30\n",
      "73/73 [==============================] - 33s 453ms/step - loss: 0.0990 - accuracy: 0.7557 - val_loss: 0.2679 - val_accuracy: 0.3824\n",
      "Epoch 9/30\n",
      "73/73 [==============================] - 33s 451ms/step - loss: 0.0926 - accuracy: 0.7707 - val_loss: 1.3983 - val_accuracy: 0.3756\n",
      "Epoch 10/30\n",
      "73/73 [==============================] - 33s 449ms/step - loss: 0.0932 - accuracy: 0.7707 - val_loss: 0.1484 - val_accuracy: 0.6413\n",
      "Epoch 11/30\n",
      "73/73 [==============================] - 33s 448ms/step - loss: 0.0852 - accuracy: 0.7935 - val_loss: 0.2541 - val_accuracy: 0.6091\n",
      "Epoch 12/30\n",
      "73/73 [==============================] - 33s 451ms/step - loss: 0.0795 - accuracy: 0.8124 - val_loss: 0.2963 - val_accuracy: 0.5059\n",
      "Epoch 13/30\n",
      "73/73 [==============================] - 33s 456ms/step - loss: 0.0840 - accuracy: 0.7978 - val_loss: 0.3367 - val_accuracy: 0.3909\n",
      "Epoch 14/30\n",
      "73/73 [==============================] - 34s 462ms/step - loss: 0.0907 - accuracy: 0.7797 - val_loss: 0.5585 - val_accuracy: 0.3198\n",
      "Epoch 15/30\n",
      "73/73 [==============================] - 34s 465ms/step - loss: 0.0786 - accuracy: 0.8111 - val_loss: 0.1597 - val_accuracy: 0.6684\n",
      "Epoch 16/30\n",
      "73/73 [==============================] - 33s 451ms/step - loss: 0.0743 - accuracy: 0.8244 - val_loss: 0.2231 - val_accuracy: 0.5550\n",
      "Epoch 17/30\n",
      "73/73 [==============================] - 33s 449ms/step - loss: 0.0749 - accuracy: 0.8274 - val_loss: 0.2602 - val_accuracy: 0.6058\n",
      "Epoch 18/30\n",
      "73/73 [==============================] - 33s 456ms/step - loss: 0.0675 - accuracy: 0.8424 - val_loss: 0.2795 - val_accuracy: 0.5584\n",
      "Epoch 19/30\n",
      "73/73 [==============================] - 33s 449ms/step - loss: 0.0602 - accuracy: 0.8630 - val_loss: 0.1064 - val_accuracy: 0.8223\n",
      "Epoch 20/30\n",
      "73/73 [==============================] - 33s 455ms/step - loss: 0.0591 - accuracy: 0.8652 - val_loss: 0.3231 - val_accuracy: 0.4484\n",
      "Epoch 21/30\n",
      "73/73 [==============================] - 33s 451ms/step - loss: 0.0557 - accuracy: 0.8759 - val_loss: 0.1638 - val_accuracy: 0.7174\n",
      "Epoch 22/30\n",
      "73/73 [==============================] - 33s 452ms/step - loss: 0.0546 - accuracy: 0.8892 - val_loss: 0.3637 - val_accuracy: 0.5888\n",
      "Epoch 23/30\n",
      "73/73 [==============================] - 33s 451ms/step - loss: 0.0535 - accuracy: 0.8819 - val_loss: 0.2385 - val_accuracy: 0.5482\n",
      "Epoch 24/30\n",
      "73/73 [==============================] - 33s 453ms/step - loss: 0.0540 - accuracy: 0.8806 - val_loss: 0.2624 - val_accuracy: 0.5854\n",
      "Epoch 25/30\n",
      "73/73 [==============================] - 33s 453ms/step - loss: 0.0687 - accuracy: 0.8416 - val_loss: 3.1639 - val_accuracy: 0.0964\n",
      "Epoch 26/30\n",
      "73/73 [==============================] - 34s 461ms/step - loss: 0.0625 - accuracy: 0.8532 - val_loss: 0.2187 - val_accuracy: 0.6328\n",
      "Epoch 27/30\n",
      "73/73 [==============================] - 33s 452ms/step - loss: 0.0516 - accuracy: 0.8888 - val_loss: 0.2034 - val_accuracy: 0.6819\n",
      "Epoch 28/30\n",
      "73/73 [==============================] - 33s 447ms/step - loss: 0.0493 - accuracy: 0.8995 - val_loss: 0.1326 - val_accuracy: 0.7225\n",
      "Epoch 29/30\n",
      "73/73 [==============================] - 34s 461ms/step - loss: 0.0506 - accuracy: 0.8832 - val_loss: 0.2054 - val_accuracy: 0.6328\n",
      "Epoch 30/30\n",
      "73/73 [==============================] - 33s 457ms/step - loss: 0.0466 - accuracy: 0.9073 - val_loss: 0.0823 - val_accuracy: 0.8291\n"
     ]
    }
   ],
   "source": [
    "history = model.fit(\n",
    "    aug.flow(x_train, y_train, batch_size=BS),\n",
    "    validation_data=(x_test, y_test),\n",
    "    steps_per_epoch=len(x_train) // BS,\n",
    "    epochs=EPOCHS, verbose=1\n",
    "    )"
   ]
  },
  {
   "cell_type": "code",
   "execution_count": 23,
   "metadata": {
    "execution": {
     "iopub.execute_input": "2023-05-14T20:23:10.194501Z",
     "iopub.status.busy": "2023-05-14T20:23:10.193265Z",
     "iopub.status.idle": "2023-05-14T20:23:10.755332Z",
     "shell.execute_reply": "2023-05-14T20:23:10.754389Z",
     "shell.execute_reply.started": "2023-05-14T20:23:10.194462Z"
    }
   },
   "outputs": [
    {
     "data": {
      "image/png": "[encoded data removed]",
      "text/plain": [
       "<Figure size 640x480 with 1 Axes>"
      ]
     },
     "metadata": {},
     "output_type": "display_data"
    },
    {
     "data": {
      "image/png": "[encoded data removed]",
      "text/plain": [
       "<Figure size 640x480 with 1 Axes>"
      ]
     },
     "metadata": {},
     "output_type": "display_data"
    }
   ],
   "source": [
    "acc = history.history['accuracy']\n",
    "val_acc = history.history['val_accuracy']\n",
    "loss = history.history['loss']\n",
    "val_loss = history.history['val_loss']\n",
    "epochs = range(1, len(acc) + 1)\n",
    "#Train and validation accuracy\n",
    "plt.plot(epochs, acc, 'b', label='Training accurarcy')\n",
    "plt.plot(epochs, val_acc, 'r', label='Validation accurarcy')\n",
    "plt.title('Training and Validation accurarcy')\n",
    "plt.legend()\n",
    "\n",
    "plt.figure()\n",
    "#Train and validation loss\n",
    "plt.plot(epochs, loss, 'b', label='Training loss')\n",
    "plt.plot(epochs, val_loss, 'r', label='Validation loss')\n",
    "plt.title('Training and Validation loss')\n",
    "plt.legend()\n",
    "plt.show()"
   ]
  },
  {
   "cell_type": "code",
   "execution_count": 24,
   "metadata": {
    "execution": {
     "iopub.execute_input": "2023-05-14T20:23:10.759549Z",
     "iopub.status.busy": "2023-05-14T20:23:10.758950Z",
     "iopub.status.idle": "2023-05-14T20:23:13.570794Z",
     "shell.execute_reply": "2023-05-14T20:23:13.569838Z",
     "shell.execute_reply.started": "2023-05-14T20:23:10.759512Z"
    }
   },
   "outputs": [
    {
     "name": "stdout",
     "output_type": "stream",
     "text": [
      "[INFO] Calculating model accuracy\n",
      "19/19 [==============================] - 1s 26ms/step - loss: 0.0823 - accuracy: 0.8291\n",
      "Test Accuracy: 82.91032314300537\n"
     ]
    }
   ],
   "source": [
    "print(\"[INFO] Calculating model accuracy\")\n",
    "scores = model.evaluate(x_test, y_test)\n",
    "print(f\"Test Accuracy: {scores[1]*100}\")"
   ]
  },
  {
   "cell_type": "code",
   "execution_count": null,
   "metadata": {},
   "outputs": [],
   "source": []
  }
 ],
 "metadata": {
  "kernelspec": {
   "display_name": "Python 3 (ipykernel)",
   "language": "python",
   "name": "python3"
  },
  "language_info": {
   "codemirror_mode": {
    "name": "ipython",
    "version": 3
   },
   "file_extension": ".py",
   "mimetype": "text/x-python",
   "name": "python",
   "nbconvert_exporter": "python",
   "pygments_lexer": "ipython3",
   "version": "3.9.13"
  }
 },
 "nbformat": 4,
 "nbformat_minor": 4
}
