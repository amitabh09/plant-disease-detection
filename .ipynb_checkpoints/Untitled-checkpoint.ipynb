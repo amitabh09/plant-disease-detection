{
 "cells": [
  {
   "cell_type": "code",
   "execution_count": 1,
   "id": "4f31ed9e",
   "metadata": {},
   "outputs": [],
   "source": [
    "import tensorflow as tf\n",
    "from tensorflow.keras import models, layers\n",
    "import matplotlib.pyplot as plt\n",
    "from IPython.display import HTML\n",
    "from keras.models import load_model\n",
    "import cv2"
   ]
  },
  {
   "cell_type": "code",
   "execution_count": 2,
   "id": "775323e7",
   "metadata": {},
   "outputs": [],
   "source": [
    "cure=[\n",
    "    \"Treatment of Powdery Mildew :\\nTo protect fruit, spray soon after petal fall and 2 to 3 weeks later if needed.\\n Treat immediately if mildew is found on leaves or shoots of inner scaffolds or water sprouts.\\n Do not use the same fungicide or fungicides with similar chemistry more than twice in one year, to reduce the potential for the development of resistance by the pathogen to the fungicide.\\n In orchards with a history of mildew, select fungicides that are active against brown rot and Botrytis, as well as powdery mildew, during bloom and immediately before harvest, being careful to note the preharvest interval.\\n \\n The following are ranked with the pesticides having the greatest IPM value listed first- \\nA.\tAZOXYSTROBIN/DIFENCONAZOLE \\n B.\tAZOXYSTROBIN/PROPICONAZOLE \\n C.\tTEBUCONAZOLE/TRIFLOXYSTROBIN \\n D.\tFLUOPYRAM/TRIFLOXYSTROBIN\",\n",
    "    \"Ways to Keep your Plants Healthy and Disease-Free:\\n1. Inspect Plants Before you Buy them.\\n The ultimate way to protect your plants from diseases is to avoid bringing them in the first place. Whenever you purchase a new plant, check them for diseases. Even if you are no expert, read a few magazines or sites and you will get the hang of it quickly. A few basic ones include checking the top of the plant, inspecting the root quality and looking for dead spots, wilting foliage or rotted stems.\\n2. Watch Out for Bugs & Insects\\n Be watchful of bugs and insects as they can prove to be hazardous. They not only plague your plants but also pave way for spreadable viruses and bacteria. So, stay cautious and ward them off as soon as possible.\\n3. Eliminate Diseased Stems & Foliage\\n Remove the spotty tomato leaves or powdery mildew on the foliage as soon as you notice it to prevent the disease from spreading.\\n4. Water in the Morning\\n Most fungal diseases take advantage of the damp, cool environments to thrive. If you leave your plants’ foliage wet overnight, it gives an easy opening to these diseases. Henceforth, water your plants in the morning so that they can dry off by evening.\\n5. Fertilise the Right Way\\n Your plants do need fertiliser to stay healthy. However, over-fertilising can burn roots, weaken your plant’s ability to absorb water and lead to many more such problems. Besides, soil usually doesn’t have all the minerals and nutrients required for a healthy garden. It is important you get a soil test and choose the right fertiliser accordingly.\\n6. Provide Good Ventilation\\n Just like you need plants to breathe in the fresh air, your plants also need proper space and airflow to flourish. When you plant your plants too closely or against a wall, this results in poor airflow and gives rise to fungal diseases like black spots and mildew. Prune excess branches and leave good space between the plants to give the way for good air circulation.\\n\",\n",
    "    \"Treatment of Cercospora or Grey Leaf Spot :\\nIn order to best prevent and manage corn grey leaf spot, the overall approach is to reduce the rate of disease growth and expansion. This is done by limiting the amount of secondary disease cycles and protecting leaf area from damage until after corn grain formation.\\nHigh risks for corn grey leaf spot are divided into eight factors, which require specific management strategies:\\n1. Susceptible hybrid\\n2. Continuous corn\\n3. Late planting date\\n4. Minimum tillage systems\\n5. Field history of severe disease\\n6. Early disease activity (before tasseling)\\n7. Irrigation\\n8. Favorable weather forecast for disease\\nThere are currently five different management strategies, some of which are more effective than others.1. Resistant varieties\\nThe most proficient and economical method to reduce yield losses from corn grey leaf spot is by introducing resistant plant varieties.In places where leaf spot occurs, these crops can ultimately grow and still be resistant to the disease. Although the disease is not eliminated and resistant varieties show disease symptoms, at the end of the growing season, the disease is not as effective in reducing crop yield. SC 407 have been proven to be common corn variety that are resistant to grey leaf spot.\\n2. Crop rotation\\nThe amount of initial inoculum will be reduced when a crop other than corn is planted for ≥2 years in that given area; meanwhile proper tillage methods are carried out. Clean plowing and 1-year crop rotation in the absence of corn allows for greater reductions of the disease as well. Note that conventional tilling can reduce disease but can lead to greater soil erosion.\\n3. Residue management\\nBurying the debris under the last year's crop will help in reducing the presence of Cercospora zeae-maydis, as the fungal-infected debris can only survive above the soil surface. Again this technique will aid in reducing the primary inoculum, but it will not completely eradicate the disease.\\n4. Fungicides\\nFungicides, if sprayed early in season before initial damage, can be effective in reducing disease.\\nCurrently there are 5 known fungicides that treat Corn grey leaf spot:\\n5. Planting date\\nThe impact of GLS is more severe if plants are affected early in their development. Early planting can help reduce yield losses by ensuring the crop is at a later stage of grain fill when conditions are typically favorable for GLS development.\\n(A)Headline EC (active ingredient: pyraclostrobin)\\n(B)Quilt (active ingredient: azoxystrobin + propiconazole)\\n(C)Proline 480 SC (active ingredient: prothioconazole)\\n(D)Tilt 250 E, Bumper 418 EC (active ingredient: propiconazole)\\n\",\n",
    "    \"Treatment of Corn Common Rust:\\n1. Select rust-resistant plant varieties when available.\\n2. Pick off and destroy infected leaves and frequently rake under plants to remove all fallen debris.\\n3. Water in the early morning hours — avoiding overhead sprinklers — to give plants time to dry out during the day. Drip irrigation and soaker hoses can be used to help keep leaves dry.\\n4. Use a slow-release, organic fertilizer on crops and avoid excess nitrogen. Soft, leafy, new growth is most susceptible.\\n5. Apply copper sprays or sulfur powders to prevent infection of susceptible plants. For best results, apply early or at first sign of disease. Spray all plant parts thoroughly and repeat every 7-10 days up to the day of harvest.\\n6. Effectively treat fungal diseases with SERENADE Garden. This broad spectrum bio-fungicide uses a patented strain of Bacillus subtilis and is approved for organic gardening. Best of all, it’s safe to use — you can treat and pick crops the same day!\\n7. Containing sulfur and pyrethrins, Bonide® Orchard Spray is a safe, one-hit concentrate for insect attacks and fungal problems. For best results, apply as a protective spray (2.5 oz/ gallon) early in the season. If disease, insects or wet weather are present, mix 5 oz in one gallon of water. Thoroughly spray all parts of the plant, especially new shoots.\\n8. Prune or stake plants and remove weeds to improve air circulation. Make sure to disinfect your pruning tools (one part bleach to 4 parts water) after each cut.\\n9. Use a thick layer of mulch or organic compost to cover the soil after you have raked and cleaned it well. Mulch will prevent the disease spores from splashing back up onto the leaves.\\n10. Burn or bag infected plants after the growing season (see Fall Garden Cleanup). Do NOT compost.\\nPesticides :\\n1. Copper Fungicides\\nCopper fungicides can provide control of some rust fungus, depending on the species of rust. Rust fungus has evolved to display resistance to some fungicides, so contact your Extension agent to find out if the rust you have is susceptible to copper.\\n2. Sulfur Fungicides\\nSulfur fungicides provide control of rust fungus. As with copper, some rusts may be resistant to this fungicide. Do not apply sulfur after the temperature has warmed up as it will damage the plant.\\n\",\n",
    "    \"Treatment of Northern_Leaf_Blight:\\n1. The primary management strategy to reduce the incidence and severity of NCLB is planting resistant products. Two types of resistance to NCLB exist in corn. Polygenic (multiple gene) resistance is expressed in plants as a reduction in lesion size, lesion number and sporulation, and a longer latent period before conidia are produced. Monogenic (single gene) resistance is controlled by a single dominant gene and can be expressed as chlorotic lesions with decreased sporulation.\\n2 Monogenic and polygenic resistance can act together to reduce the severity of NCLB.\\n3. Protecting the ear leaf and those above it as corn plants enter reproductive growth stages is especially important. Fields should be scouted prior to tassel emergence, around the V14 growth stage, to determine disease pressure. Economic returns are more likely to be realized when fungicides are applied from tasseling to early silking.\\n4. A general recommendation for corn foliar diseases caused by fungal pathogens is to consider a fungicide application if a fungal disease is present on the third leaf below the ear leaf or higher on 50% of the plants at tasseling and the product is susceptible to the disease.\\n5. Consider costs and predicted weather conditions before deciding to apply fungicides. Delaro® 325 SC fungicide is labeled for NCLB and can be sprayed when the disease first appears and for a 7- to 14-day interval where necessary.\\n6. A combination of rotating away from corn for one year followed by tillage is recommended to prevent the development of NCLB. Rotating to a non-host crop can reduce disease levels by allowing the corn debris on which the fungus survives to decompose before corn is planted again.\\n7. Burying residue may help reduce infection levels by decreasing the amount of primary inoculum available in the spring. In no-till and reduced-tillage fields with a history of NCLB, a two-year rotation away from corn may be necessary.\\n\",\n",
    "    \"Ways to Keep your Plants Healthy and Disease-Free:\\n1. Inspect Plants Before you Buy them.\\n The ultimate way to protect your plants from diseases is to avoid bringing them in the first place. Whenever you purchase a new plant, check them for diseases. Even if you are no expert, read a few magazines or sites and you will get the hang of it quickly. A few basic ones include checking the top of the plant, inspecting the root quality and looking for dead spots, wilting foliage or rotted stems.\\n2. Watch Out for Bugs & Insects\\n Be watchful of bugs and insects as they can prove to be hazardous. They not only plague your plants but also pave way for spreadable viruses and bacteria. So, stay cautious and ward them off as soon as possible.\\n3. Eliminate Diseased Stems & Foliage\\n Remove the spotty tomato leaves or powdery mildew on the foliage as soon as you notice it to prevent the disease from spreading.\\n4. Water in the Morning\\n Most fungal diseases take advantage of the damp, cool environments to thrive. If you leave your plants’ foliage wet overnight, it gives an easy opening to these diseases. Henceforth, water your plants in the morning so that they can dry off by evening.\\n5. Fertilise the Right Way\\n Your plants do need fertiliser to stay healthy. However, over-fertilising can burn roots, weaken your plant’s ability to absorb water and lead to many more such problems. Besides, soil usually doesn’t have all the minerals and nutrients required for a healthy garden. It is important you get a soil test and choose the right fertiliser accordingly.\\n6. Provide Good Ventilation\\n Just like you need plants to breathe in the fresh air, your plants also need proper space and airflow to flourish. When you plant your plants too closely or against a wall, this results in poor airflow and gives rise to fungal diseases like black spots and mildew. Prune excess branches and leave good space between the plants to give the way for good air circulation.\\n\",\n",
    "    \"Ways to Keep your Plants Healthy and Disease-Free:\\n1. Inspect Plants Before you Buy them.\\n The ultimate way to protect your plants from diseases is to avoid bringing them in the first place. Whenever you purchase a new plant, check them for diseases. Even if you are no expert, read a few magazines or sites and you will get the hang of it quickly. A few basic ones include checking the top of the plant, inspecting the root quality and looking for dead spots, wilting foliage or rotted stems.\\n2. Watch Out for Bugs & Insects\\n Be watchful of bugs and insects as they can prove to be hazardous. They not only plague your plants but also pave way for spreadable viruses and bacteria. So, stay cautious and ward them off as soon as possible.\\n3. Eliminate Diseased Stems & Foliage\\n Remove the spotty tomato leaves or powdery mildew on the foliage as soon as you notice it to prevent the disease from spreading.\\n4. Water in the Morning\\n Most fungal diseases take advantage of the damp, cool environments to thrive. If you leave your plants’ foliage wet overnight, it gives an easy opening to these diseases. Henceforth, water your plants in the morning so that they can dry off by evening.\\n5. Fertilise the Right Way\\n Your plants do need fertiliser to stay healthy. However, over-fertilising can burn roots, weaken your plant’s ability to absorb water and lead to many more such problems. Besides, soil usually doesn’t have all the minerals and nutrients required for a healthy garden. It is important you get a soil test and choose the right fertiliser accordingly.\\n6. Provide Good Ventilation\\n Just like you need plants to breathe in the fresh air, your plants also need proper space and airflow to flourish. When you plant your plants too closely or against a wall, this results in poor airflow and gives rise to fungal diseases like black spots and mildew. Prune excess branches and leave good space between the plants to give the way for good air circulation.\\n\",\n",
    "    \"Treatment of Potato Early Blight:\\n1. Select a late-season variety with a lower susceptibility to early blight. (Resistance is associated with plant maturity and early maturing cultivars are more susceptible).\\n2. Time irrigation to minimize leaf wetness duration during cloudy weather and allow sufficient time for leaves to dry prior to nightfall.\\n3. Avoid nitrogen and phosphorus deficiency.\\n4. Scout fields regularly for infection beginning after plants reach 12 inches in height. Pay particular attention to edges of fields that are adjacent to fields planted to potato the previous year.\\n5. Rotate foliar fungicides.\\n6. Monitor physiological days (P-Days) with the North Dakota Agricultural Weather Network (NDAWN) Potato Blight app.\\n7. Kill vines two to three weeks prior to harvest to allow adequate skin set.\\n8. Avoid injury and skinning during harvest.\\n9. Store tubers under conditions that promote wound healing (fresh air, 95 to 99 percent relative humidity, and temperatures of 55 to 60 F) for two to three weeks after harvest. Following wound healing, store tubers in a dark, dry, and well-ventilated location gradually cooled to a temperature appropriate for the desired market.\\n10. Rotate fields to non-host crops for at least three years (three to four-year crop rotation).\\n11. Eradicate weed hosts such as hairy nightshade to reduce inoculum for future plantings.\\n\\nFollowing are popular pesticides:\\nChlorothalonil Chloronitrile\\nDithane Mancozeb Dithiocarbamates\\nQuadris Azoxystrobin Qol 11 F129L\\nHeadline Pyraclostrobin Qol\t11 F129L\\nReason Fenamidone\tQol\t11 F129L\\nCymoxanil Cranoacetamide-Oxime\\n\",\n",
    "    \"Treatment of Potato Late Blight :\\n1. Remove volunteers from the garden prior to planting and space plants far enough apart to allow forplenty of air circulation.\\n2. Water in the early morning hours, or use soaker hoses, to give plants time to dry out during the day avoid overhead irrigation.\\n3. Destroy all tomato and potato debris after harvest .\\nIf symptoms are observed, treat plants with one of the following fungicides:\\n1. Apply a copper based fungicide (2 oz/ gallon of water) every 7 days or less, following heavy rain or when the amount of disease is increasing rapidly.\\n2. If possible, time applications so that at least 12 hours of dry weather follows application.\\n3. Used as a foliar spray, Plant Doctor will work its way through the entire plant to prevent fungal problems from occurring and attack existing many problems. Mix 2 tsp/ gallon of water and spray at transplant or when direct seeded crops are at 2-4 true leaf, then at 1-2 week intervals as required to control disease.\\n4. Safely treat fungal problems with SERENADE Garden. This broad spectrum bio-fungicide uses a patented strain of Bacillus subtilis and is approved for organic use.\\n5. Best of all, SERENADE is completely non-toxic to honey bees and beneficial insects.\\n6. Monterey All Natural Disease Control is a ready-to-use blend of naturally occurring ingredients that control most plant foliar diseases. All stages of the disease is controlled, but applying before infestation gives the best results.\\n\",\n",
    "    \"Ways to Keep your Plants Healthy and Disease-Free:\\n1. Inspect Plants Before you Buy them.\\n The ultimate way to protect your plants from diseases is to avoid bringing them in the first place. Whenever you purchase a new plant, check them for diseases. Even if you are no expert, read a few magazines or sites and you will get the hang of it quickly. A few basic ones include checking the top of the plant, inspecting the root quality and looking for dead spots, wilting foliage or rotted stems.\\n2. Watch Out for Bugs & Insects\\n Be watchful of bugs and insects as they can prove to be hazardous. They not only plague your plants but also pave way for spreadable viruses and bacteria. So, stay cautious and ward them off as soon as possible.\\n3. Eliminate Diseased Stems & Foliage\\n Remove the spotty tomato leaves or powdery mildew on the foliage as soon as you notice it to prevent the disease from spreading.\\n4. Water in the Morning\\n Most fungal diseases take advantage of the damp, cool environments to thrive. If you leave your plants’ foliage wet overnight, it gives an easy opening to these diseases. Henceforth, water your plants in the morning so that they can dry off by evening.\\n5. Fertilise the Right Way\\n Your plants do need fertiliser to stay healthy. However, over-fertilising can burn roots, weaken your plant’s ability to absorb water and lead to many more such problems. Besides, soil usually doesn’t have all the minerals and nutrients required for a healthy garden. It is important you get a soil test and choose the right fertiliser accordingly.\\n6. Provide Good Ventilation\\n Just like you need plants to breathe in the fresh air, your plants also need proper space and airflow to flourish. When you plant your plants too closely or against a wall, this results in poor airflow and gives rise to fungal diseases like black spots and mildew. Prune excess branches and leave good space between the plants to give the way for good air circulation.\\n\",\n",
    "    \"Ways to Keep your Plants Healthy and Disease-Free:\\n1. Inspect Plants Before you Buy them.\\n The ultimate way to protect your plants from diseases is to avoid bringing them in the first place. Whenever you purchase a new plant, check them for diseases. Even if you are no expert, read a few magazines or sites and you will get the hang of it quickly. A few basic ones include checking the top of the plant, inspecting the root quality and looking for dead spots, wilting foliage or rotted stems.\\n2. Watch Out for Bugs & Insects\\n Be watchful of bugs and insects as they can prove to be hazardous. They not only plague your plants but also pave way for spreadable viruses and bacteria. So, stay cautious and ward them off as soon as possible.\\n3. Eliminate Diseased Stems & Foliage\\n Remove the spotty tomato leaves or powdery mildew on the foliage as soon as you notice it to prevent the disease from spreading.\\n4. Water in the Morning\\n Most fungal diseases take advantage of the damp, cool environments to thrive. If you leave your plants’ foliage wet overnight, it gives an easy opening to these diseases. Henceforth, water your plants in the morning so that they can dry off by evening.\\n5. Fertilise the Right Way\\n Your plants do need fertiliser to stay healthy. However, over-fertilising can burn roots, weaken your plant’s ability to absorb water and lead to many more such problems. Besides, soil usually doesn’t have all the minerals and nutrients required for a healthy garden. It is important you get a soil test and choose the right fertiliser accordingly.\\n6. Provide Good Ventilation\\n Just like you need plants to breathe in the fresh air, your plants also need proper space and airflow to flourish. When you plant your plants too closely or against a wall, this results in poor airflow and gives rise to fungal diseases like black spots and mildew. Prune excess branches and leave good space between the plants to give the way for good air circulation.\\n\"\n",
    "]"
   ]
  },
  {
   "cell_type": "code",
   "execution_count": 3,
   "id": "0c2a0193",
   "metadata": {},
   "outputs": [
    {
     "name": "stdout",
     "output_type": "stream",
     "text": [
      "Found 5 files belonging to 1 classes.\n"
     ]
    }
   ],
   "source": [
    "daa = tf.keras.preprocessing.image_dataset_from_directory(\"prediction_input\")"
   ]
  },
  {
   "cell_type": "code",
   "execution_count": 4,
   "id": "a12873b0",
   "metadata": {},
   "outputs": [],
   "source": [
    "model = load_model(\"M2_11epoch.h5\")"
   ]
  },
  {
   "cell_type": "code",
   "execution_count": 5,
   "id": "c46bacf7",
   "metadata": {},
   "outputs": [
    {
     "name": "stdout",
     "output_type": "stream",
     "text": [
      "<keras.engine.sequential.Sequential object at 0x0000024582504CD0>\n"
     ]
    }
   ],
   "source": [
    "print(model)"
   ]
  },
  {
   "cell_type": "code",
   "execution_count": 6,
   "id": "9f4b083e",
   "metadata": {},
   "outputs": [],
   "source": [
    "model.compile(optimizer = 'adam', loss = 'binary_crossentropy', metrics = ['accuracy'])"
   ]
  },
  {
   "cell_type": "code",
   "execution_count": 7,
   "id": "222953da",
   "metadata": {},
   "outputs": [
    {
     "name": "stdout",
     "output_type": "stream",
     "text": [
      "1/1 [==============================] - 1s 620ms/step\n"
     ]
    }
   ],
   "source": [
    "res = model.predict(daa)\n",
    "#print(res)"
   ]
  },
  {
   "cell_type": "code",
   "execution_count": 8,
   "id": "a44e99d1",
   "metadata": {},
   "outputs": [
    {
     "name": "stdout",
     "output_type": "stream",
     "text": [
      "[3 3 3 3 3]\n"
     ]
    }
   ],
   "source": [
    "y_classes = res.argmax(axis=-1)\n",
    "print(y_classes)"
   ]
  },
  {
   "cell_type": "code",
   "execution_count": 9,
   "id": "ab35ef49",
   "metadata": {},
   "outputs": [
    {
     "data": {
      "text/plain": [
       "3"
      ]
     },
     "execution_count": 9,
     "metadata": {},
     "output_type": "execute_result"
    }
   ],
   "source": [
    "import numpy as np\n",
    "import statistics\n",
    "res = statistics.mode(y_classes)\n",
    "res"
   ]
  },
  {
   "cell_type": "code",
   "execution_count": 10,
   "id": "dc6999e1",
   "metadata": {},
   "outputs": [],
   "source": [
    "if res==0:\n",
    "    name=\"The Plant is Cherry and is Infected With Powdery Milew Disease \"\n",
    "elif res==1:\n",
    "    name=\"The Plant is Cherry and is Healthy\"\n",
    "elif res==2:\n",
    "    name=\"The Plant is Corn and is Infected With Cercospora Disease \"\n",
    "elif res==3:\n",
    "    name=\"The Plant is Corn and is Infected With Common Rust Disease \"\n",
    "elif res==4:\n",
    "    name='The Plant is Corn and is Infected With Northern Leaf Blight Disease '\n",
    "elif res==5:\n",
    "    name=\"The Plant is Corn and is Healthy \"\n",
    "elif res==6:\n",
    "    name=\"The Peach is Corn and is Healthy \"\n",
    "elif res==7:\n",
    "    name=\"The Plant is Potato and is Infected With Early Blight Disease \"\n",
    "elif res==8:\n",
    "    name=\"The Plant is Potato and is Infected With Late Blight Disease \"\n",
    "elif res==9:\n",
    "    name=\"The Plant is Potato and is Healthy \"\n",
    "else:\n",
    "    name=\"The Plant is Rasberry and is Healthy \""
   ]
  },
  {
   "cell_type": "code",
   "execution_count": 11,
   "id": "120eaa75",
   "metadata": {},
   "outputs": [
    {
     "name": "stdout",
     "output_type": "stream",
     "text": [
      "\n",
      "The Plant is Corn and is Infected With Common Rust Disease \n",
      " \n",
      "\n",
      "Cure of The Disease : \n",
      "\n",
      "Treatment of Corn Common Rust:\n",
      "1. Select rust-resistant plant varieties when available.\n",
      "2. Pick off and destroy infected leaves and frequently rake under plants to remove all fallen debris.\n",
      "3. Water in the early morning hours — avoiding overhead sprinklers — to give plants time to dry out during the day. Drip irrigation and soaker hoses can be used to help keep leaves dry.\n",
      "4. Use a slow-release, organic fertilizer on crops and avoid excess nitrogen. Soft, leafy, new growth is most susceptible.\n",
      "5. Apply copper sprays or sulfur powders to prevent infection of susceptible plants. For best results, apply early or at first sign of disease. Spray all plant parts thoroughly and repeat every 7-10 days up to the day of harvest.\n",
      "6. Effectively treat fungal diseases with SERENADE Garden. This broad spectrum bio-fungicide uses a patented strain of Bacillus subtilis and is approved for organic gardening. Best of all, it’s safe to use — you can treat and pick crops the same day!\n",
      "7. Containing sulfur and pyrethrins, Bonide® Orchard Spray is a safe, one-hit concentrate for insect attacks and fungal problems. For best results, apply as a protective spray (2.5 oz/ gallon) early in the season. If disease, insects or wet weather are present, mix 5 oz in one gallon of water. Thoroughly spray all parts of the plant, especially new shoots.\n",
      "8. Prune or stake plants and remove weeds to improve air circulation. Make sure to disinfect your pruning tools (one part bleach to 4 parts water) after each cut.\n",
      "9. Use a thick layer of mulch or organic compost to cover the soil after you have raked and cleaned it well. Mulch will prevent the disease spores from splashing back up onto the leaves.\n",
      "10. Burn or bag infected plants after the growing season (see Fall Garden Cleanup). Do NOT compost.\n",
      "Pesticides :\n",
      "1. Copper Fungicides\n",
      "Copper fungicides can provide control of some rust fungus, depending on the species of rust. Rust fungus has evolved to display resistance to some fungicides, so contact your Extension agent to find out if the rust you have is susceptible to copper.\n",
      "2. Sulfur Fungicides\n",
      "Sulfur fungicides provide control of rust fungus. As with copper, some rusts may be resistant to this fungicide. Do not apply sulfur after the temperature has warmed up as it will damage the plant.\n",
      "\n"
     ]
    }
   ],
   "source": [
    "print(\"\\n\" +name +\"\\n \\n\")\n",
    "print(\"Cure of The Disease : \\n\")\n",
    "print(cure[res])"
   ]
  },
  {
   "cell_type": "code",
   "execution_count": null,
   "id": "900fcfd2",
   "metadata": {},
   "outputs": [],
   "source": []
  },
  {
   "cell_type": "code",
   "execution_count": null,
   "id": "127cfd66",
   "metadata": {},
   "outputs": [],
   "source": []
  }
 ],
 "metadata": {
  "kernelspec": {
   "display_name": "Python 3 (ipykernel)",
   "language": "python",
   "name": "python3"
  },
  "language_info": {
   "codemirror_mode": {
    "name": "ipython",
    "version": 3
   },
   "file_extension": ".py",
   "mimetype": "text/x-python",
   "name": "python",
   "nbconvert_exporter": "python",
   "pygments_lexer": "ipython3",
   "version": "3.9.13"
  }
 },
 "nbformat": 4,
 "nbformat_minor": 5
}
